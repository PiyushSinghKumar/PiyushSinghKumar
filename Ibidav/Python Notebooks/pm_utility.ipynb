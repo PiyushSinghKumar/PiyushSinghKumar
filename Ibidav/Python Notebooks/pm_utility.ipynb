{
  "cells": [
    {
      "cell_type": "code",
      "execution_count": 1,
      "metadata": {
        "id": "zKxiABU76LvZ"
      },
      "outputs": [],
      "source": [
        "import os\n",
        "import re\n",
        "import time\n",
        "import requests\n",
        "import pandas as pd\n",
        "from bs4 import BeautifulSoup\n",
        "import urllib.parse\n",
        "import dask\n",
        "import dask.dataframe as dd\n",
        "from dask.distributed import Client, LocalCluster\n",
        "from dask.delayed import delayed\n",
        "from tqdm import tqdm"
      ]
    },
    {
      "cell_type": "code",
      "execution_count": 2,
      "metadata": {
        "id": "3uolQQET6aRu"
      },
      "outputs": [],
      "source": [
        "# PubMed API base URL\n",
        "base_url = \"https://eutils.ncbi.nlm.nih.gov/entrez/eutils/\"\n",
        "\n",
        "# List of medical imaging techniques\n",
        "techniques = [\n",
        "    \"X-ray\",\n",
        "    \"Magnetic Resonance Imaging (MRI)\",\n",
        "    \"Computed Tomography (CT) Scan\",\n",
        "    \"Positron Emission Tomography (PET) Scan\",\n",
        "    \"Ultrasound\",\n",
        "    \"Endoscopy\",\n",
        "    \"Histology\"\n",
        "]"
      ]
    },
    {
      "cell_type": "code",
      "execution_count": 3,
      "metadata": {
        "id": "O3wV9p3n6dID"
      },
      "outputs": [],
      "source": [
        "def retrieve_technique_pmc_ids(techniques, limit_per_category=None):\n",
        "    # PubMed API base URL\n",
        "    base_url = \"https://eutils.ncbi.nlm.nih.gov/entrez/eutils/\"\n",
        "\n",
        "    # Dictionary to store technique PMC IDs\n",
        "    technique_dictionary = {}\n",
        "\n",
        "    # Perform PMC search for each technique\n",
        "    for technique in techniques:\n",
        "        print(\"Retrieving ids for: \", technique)\n",
        "        technique_dictionary[technique] = []\n",
        "\n",
        "        # Construct the search query\n",
        "        query = f\"{technique} [Title/Abstract]\"\n",
        "\n",
        "        # Initial values for pagination\n",
        "        retmax = 100  # Number of results to retrieve per request\n",
        "        retstart = 0  # Starting index of the results\n",
        "\n",
        "        # Track the number of retrieved PMC IDs for the category\n",
        "        retrieved_count = 0\n",
        "\n",
        "        # Retrieve PMC IDs using pagination\n",
        "        while True:\n",
        "            # Send the search request to PubMed API\n",
        "            search_url = f\"{base_url}esearch.fcgi?db=pmc&term={query}&retmode=json&retstart={retstart}&retmax={retmax}\"\n",
        "            response = requests.get(search_url)\n",
        "            data = response.json()\n",
        "\n",
        "            # Check if the \"esearchresult\" key exists in the response\n",
        "            if \"esearchresult\" in data:\n",
        "                # Extract the PMC IDs from the search results\n",
        "                pmc_ids = data[\"esearchresult\"].get(\"idlist\", [])\n",
        "\n",
        "                # Add the retrieved PMC IDs to the technique's list\n",
        "                technique_dictionary[technique].extend(pmc_ids)\n",
        "\n",
        "                # Print the retrieved PMC IDs\n",
        "                for pmc_id in pmc_ids:\n",
        "                    retrieved_count += 1\n",
        "\n",
        "                    # Check if the limit is reached\n",
        "                    if limit_per_category is not None and retrieved_count >= limit_per_category:\n",
        "                        break\n",
        "\n",
        "            # Update the starting index for the next batch\n",
        "            retstart += retmax\n",
        "\n",
        "            # Check if there are more results to retrieve or if the limit is reached\n",
        "            if (\n",
        "                \"esearchresult\" not in data\n",
        "                or retstart >= int(data[\"esearchresult\"][\"count\"])\n",
        "                or (limit_per_category is not None and retrieved_count >= limit_per_category)\n",
        "            ):\n",
        "                break\n",
        "\n",
        "            # Introduce a delay between requests (e.g., 1 second)\n",
        "            time.sleep(1)\n",
        "\n",
        "        # Limit the number of PMC IDs per category if limit_per_category is provided\n",
        "        if limit_per_category is not None and limit_per_category < len(technique_dictionary[technique]):\n",
        "            technique_dictionary[technique] = technique_dictionary[technique][:limit_per_category]\n",
        "\n",
        "    return technique_dictionary"
      ]
    },
    {
      "cell_type": "code",
      "execution_count": 4,
      "metadata": {
        "id": "YqoPt5RG6iuN"
      },
      "outputs": [],
      "source": [
        "def download_image(url, filename):\n",
        "    headers = {\n",
        "        \"User-Agent\": \"Mozilla/5.0 (Windows NT 10.0; Win64; x64) AppleWebKit/537.36 (KHTML, like Gecko) Chrome/90.0.4430.212 Safari/537.36\",\n",
        "    }\n",
        "    response = requests.get(url, headers=headers)\n",
        "\n",
        "    #print(\"Response status code:\", response.status_code)\n",
        "    #print(\"Response content length:\", len(response.content))\n",
        "\n",
        "    if response.status_code == 200:\n",
        "        with open(filename, \"wb\") as file:\n",
        "            file.write(response.content)\n",
        "        #print(\"Image downloaded successfully!\")\n",
        "    else:\n",
        "        print(\"Failed to download the image. Status code:\", response.status_code)"
      ]
    },
    {
      "cell_type": "code",
      "execution_count": 5,
      "metadata": {
        "id": "7LbsFA1b6o7C"
      },
      "outputs": [],
      "source": [
        "def retrieve_information_from_xml(xml_content):\n",
        "    soup = BeautifulSoup(xml_content, 'xml')\n",
        "    \n",
        "    article_meta = soup.find('article-meta')\n",
        "    #print(article_meta)\n",
        "    if article_meta is None:\n",
        "        return None, None, None, None, None\n",
        "    \n",
        "    pmid_element = article_meta.find('article-id', {'pub-id-type': 'pmid'})\n",
        "    pmid = pmid_element.text if pmid_element else None\n",
        "\n",
        "    doi_element = article_meta.find('article-id', {'pub-id-type': 'doi'})\n",
        "    doi = doi_element.text if doi_element else None\n",
        "\n",
        "    title_element = article_meta.find('article-title')\n",
        "    title = title_element.text if title_element else None\n",
        "    \n",
        "    abstract_elements = soup.find_all('abstract')\n",
        "    abstract = ' '.join([abstract_element.text.strip() for abstract_element in abstract_elements])\n",
        "    abstract = abstract.strip() if abstract else None\n",
        "    \n",
        "    subject_terms = []\n",
        "    subj_group_elements = soup.find_all('subj-group')\n",
        "    for subj_group_element in subj_group_elements:\n",
        "        if subj_group_element.get('subj-group-type') == 'heading':\n",
        "            subject_terms.extend([subject.text for subject in subj_group_element.find_all('subject')])\n",
        "    subject_terms = subject_terms if subject_terms else None\n",
        "    \n",
        "    return pmid, doi, title, abstract, subject_terms"
      ]
    },
    {
      "cell_type": "code",
      "execution_count": 6,
      "metadata": {
        "id": "NyMEINEI6tha"
      },
      "outputs": [],
      "source": [
        "def retrieve_images_and_save_to_dataframe(category, base_url, article_id):\n",
        "    category_folder = os.path.join(\"image\", category)\n",
        "    os.makedirs(category_folder, exist_ok=True)\n",
        "\n",
        "    xml_url = f\"{base_url}efetch.fcgi?db=pmc&id={article_id}\"\n",
        "    print(xml_url)\n",
        "    response = requests.get(xml_url)\n",
        "    xml_content = response.content\n",
        "\n",
        "    pmid, doi, title, abstract, subject_terms = retrieve_information_from_xml(xml_content)\n",
        "\n",
        "    soup = BeautifulSoup(xml_content, 'xml')\n",
        "\n",
        "    figure_urls = []\n",
        "    figure_captions = []\n",
        "    image_names = []\n",
        "\n",
        "    fig_elements = soup.find_all('fig')\n",
        "    for fig in fig_elements:\n",
        "        graphic_element = fig.find('graphic')\n",
        "        if graphic_element:\n",
        "            url = graphic_element.get('xlink:href')\n",
        "            if url:\n",
        "                figure_url = f\"https://www.ncbi.nlm.nih.gov/pmc/articles/{article_id}/bin/{url}.jpg\"\n",
        "                figure_urls.append(figure_url)\n",
        "\n",
        "                caption_element = fig.find('caption')\n",
        "                if caption_element:\n",
        "                    caption = caption_element.get_text()\n",
        "                    figure_captions.append(caption)\n",
        "                else:\n",
        "                    figure_captions.append(\"\")\n",
        "\n",
        "                image_name = f\"{category}_{article_id}_figure_{os.path.basename(url)}\"\n",
        "                image_names.append(image_name)  # Add the image name to the list\n",
        "\n",
        "    # Create a DataFrame with the image details\n",
        "    data = {\n",
        "        'PMCID': [],\n",
        "        'PMID': [],\n",
        "        'DOI': [],\n",
        "        'Title': [],\n",
        "        'Abstract': [],\n",
        "        'Subject Terms': [],\n",
        "        'Article URL': [],\n",
        "        'Image URL': [],\n",
        "        'Caption': [],\n",
        "        'Category': [],\n",
        "        'Image_Name': [],\n",
        "        'xml_url': []\n",
        "    }\n",
        "\n",
        "    for i, url in enumerate(figure_urls):\n",
        "        image_name = os.path.basename(url)\n",
        "        filename = f\"{category}_{article_id}_figure_{image_name}\"\n",
        "        filepath = os.path.join(category_folder, filename)\n",
        "        #download_image(url, filepath)\n",
        "        #print(f\"Downloaded: {filename}\")\n",
        "\n",
        "        data['PMCID'].append(article_id)\n",
        "        data['PMID'].append(pmid)\n",
        "        data['DOI'].append(doi)\n",
        "        data['Title'].append(title)\n",
        "        data['Abstract'].append(abstract)\n",
        "        data['Subject Terms'].append(subject_terms)\n",
        "        data['Article URL'].append(f\"https://www.ncbi.nlm.nih.gov/pmc/articles/{article_id}\")\n",
        "        data['Image URL'].append(url)\n",
        "        data['Caption'].append(figure_captions[i])\n",
        "        data['Category'].append(category)\n",
        "        data['Image_Name'].append(image_name)\n",
        "        data['xml_url'].append(xml_url)\n",
        "\n",
        "        time.sleep(1)  # Sleep for 1 second between each image download\n",
        "\n",
        "    df = pd.DataFrame(data)\n",
        "\n",
        "    return df"
      ]
    },
    {
      "cell_type": "code",
      "execution_count": 7,
      "metadata": {
        "colab": {
          "base_uri": "https://localhost:8080/"
        },
        "id": "HgWIjEzG62Nk",
        "outputId": "57b870b7-0d2b-43d5-f1ca-e388d1395540"
      },
      "outputs": [
        {
          "name": "stdout",
          "output_type": "stream",
          "text": [
            "Retrieving ids for:  X-ray\n",
            "Retrieving ids for:  Magnetic Resonance Imaging (MRI)\n",
            "Retrieving ids for:  Computed Tomography (CT) Scan\n",
            "Retrieving ids for:  Positron Emission Tomography (PET) Scan\n",
            "Retrieving ids for:  Ultrasound\n",
            "Retrieving ids for:  Endoscopy\n",
            "Retrieving ids for:  Histology\n"
          ]
        },
        {
          "name": "stderr",
          "output_type": "stream",
          "text": [
            "Processing X-ray: 100%|██████████| 3000/3000 [00:00<00:00, 8325.20it/s]\n",
            "Processing Magnetic Resonance Imaging (MRI): 100%|██████████| 893/893 [00:00<00:00, 21881.45it/s]\n",
            "Processing Computed Tomography (CT) Scan: 100%|██████████| 1818/1818 [00:00<00:00, 21276.92it/s]\n",
            "Processing Positron Emission Tomography (PET) Scan: 100%|██████████| 563/563 [00:00<00:00, 18320.00it/s]\n",
            "Processing Ultrasound: 100%|██████████| 3000/3000 [00:00<00:00, 12171.79it/s]\n",
            "Processing Endoscopy: 100%|██████████| 3000/3000 [00:00<00:00, 21068.68it/s]\n",
            "Processing Histology: 100%|██████████| 3000/3000 [00:00<00:00, 20967.99it/s]\n"
          ]
        }
      ],
      "source": [
        "limit_per_category = 3000\n",
        "# Create an empty DataFrame\n",
        "# ddf_combined = dd.from_pandas(pd.DataFrame(), npartitions=2)\n",
        "#df_combined = pd.DataFrame()\n",
        "\n",
        "# Retrieve PMC IDs for each technique\n",
        "technique_pmc_ids = retrieve_technique_pmc_ids(techniques, limit_per_category)\n",
        "\n",
        "# Create a list to store delayed function calls\n",
        "delayed_calls = []\n",
        "\n",
        "time.sleep(6)\n",
        "# Iterate over the techniques and PMC IDs\n",
        "for technique, pmc_ids in technique_pmc_ids.items():\n",
        "    pbar = tqdm(total=len(pmc_ids), desc=f\"Processing {technique}\")  # Create a progress bar for each technique\n",
        "    #print(f\"Technique: {technique}\")\n",
        "    #print(\"PMC IDs:\")\n",
        "    for pmc_id in pmc_ids:\n",
        "        #print(pmc_id)\n",
        "        delayed_call = delayed(retrieve_images_and_save_to_dataframe)(technique, base_url, pmc_id)\n",
        "        delayed_calls.append(delayed_call)\n",
        "        pbar.update(1)\n",
        "    pbar.close()\n",
        "\n",
        "\n"
      ]
    },
    {
      "cell_type": "code",
      "execution_count": 8,
      "metadata": {},
      "outputs": [
        {
          "name": "stdout",
          "output_type": "stream",
          "text": [
            "{'X-ray': 3000, 'Magnetic Resonance Imaging (MRI)': 893, 'Computed Tomography (CT) Scan': 1818, 'Positron Emission Tomography (PET) Scan': 563, 'Ultrasound': 3000, 'Endoscopy': 3000, 'Histology': 3000}\n"
          ]
        }
      ],
      "source": [
        "unique_counts_per_key = {}\n",
        "\n",
        "for key, value in technique_pmc_ids.items():\n",
        "    unique_values = len(set(value))\n",
        "    unique_counts_per_key[key] = unique_values\n",
        "\n",
        "print(unique_counts_per_key)"
      ]
    },
    {
      "cell_type": "code",
      "execution_count": 9,
      "metadata": {
        "colab": {
          "base_uri": "https://localhost:8080/"
        },
        "id": "67xU_EVhvTwI",
        "outputId": "23b4939a-8a48-4956-edef-234afa1546d1"
      },
      "outputs": [],
      "source": [
        "# Create a dask cluster and client\n",
        "cluster = LocalCluster()\n",
        "client = Client(cluster)"
      ]
    },
    {
      "cell_type": "code",
      "execution_count": 10,
      "metadata": {
        "colab": {
          "base_uri": "https://localhost:8080/"
        },
        "id": "VSioptgaIuYH",
        "outputId": "11732fb2-354a-469a-d9d3-3bd683095772"
      },
      "outputs": [],
      "source": [
        "\n",
        "# Compute the delayed function calls in parallel\n",
        "dfs = dask.compute(*delayed_calls, scheduler='distributed')\n",
        "\n",
        "# Concatenate the resulting DataFrames into a single DataFrame\n",
        "df_combined = pd.concat(dfs, ignore_index=True)\n",
        "\n",
        "# Reset the index of the combined DataFrame\n",
        "df_combined.reset_index(drop=True, inplace=True)"
      ]
    },
    {
      "cell_type": "code",
      "execution_count": 11,
      "metadata": {},
      "outputs": [
        {
          "data": {
            "text/plain": [
              "(29321, 12)"
            ]
          },
          "execution_count": 11,
          "metadata": {},
          "output_type": "execute_result"
        }
      ],
      "source": [
        "df_combined.shape"
      ]
    },
    {
      "cell_type": "code",
      "execution_count": 12,
      "metadata": {},
      "outputs": [
        {
          "data": {
            "text/plain": [
              "Category\n",
              "Computed Tomography (CT) Scan               610\n",
              "Endoscopy                                   962\n",
              "Histology                                   756\n",
              "Magnetic Resonance Imaging (MRI)            339\n",
              "Positron Emission Tomography (PET) Scan     215\n",
              "Ultrasound                                 1292\n",
              "X-ray                                      1299\n",
              "Name: PMID, dtype: int64"
            ]
          },
          "execution_count": 12,
          "metadata": {},
          "output_type": "execute_result"
        }
      ],
      "source": [
        "df_combined.groupby(\"Category\")[\"PMID\"].nunique()"
      ]
    },
    {
      "cell_type": "code",
      "execution_count": 13,
      "metadata": {
        "colab": {
          "base_uri": "https://localhost:8080/"
        },
        "id": "2CJdB8pWKk5w",
        "outputId": "751903ac-f832-459b-e0b1-f6fd6f1ca08d"
      },
      "outputs": [
        {
          "data": {
            "text/html": [
              "<div>\n",
              "<style scoped>\n",
              "    .dataframe tbody tr th:only-of-type {\n",
              "        vertical-align: middle;\n",
              "    }\n",
              "\n",
              "    .dataframe tbody tr th {\n",
              "        vertical-align: top;\n",
              "    }\n",
              "\n",
              "    .dataframe thead th {\n",
              "        text-align: right;\n",
              "    }\n",
              "</style>\n",
              "<table border=\"1\" class=\"dataframe\">\n",
              "  <thead>\n",
              "    <tr style=\"text-align: right;\">\n",
              "      <th></th>\n",
              "      <th>PMCID</th>\n",
              "      <th>PMID</th>\n",
              "      <th>DOI</th>\n",
              "      <th>Title</th>\n",
              "      <th>Abstract</th>\n",
              "      <th>Subject Terms</th>\n",
              "      <th>Article URL</th>\n",
              "      <th>Image URL</th>\n",
              "      <th>Caption</th>\n",
              "      <th>Category</th>\n",
              "      <th>Image_Name</th>\n",
              "      <th>xml_url</th>\n",
              "    </tr>\n",
              "  </thead>\n",
              "  <tbody>\n",
              "    <tr>\n",
              "      <th>0</th>\n",
              "      <td>10363893</td>\n",
              "      <td>37469184</td>\n",
              "      <td>10.1177/15330338231189593</td>\n",
              "      <td>X-ray and MR Contrast Bearing Nanoparticles En...</td>\n",
              "      <td>Introduction\\nRadiation therapy for head and n...</td>\n",
              "      <td>[Image-guided drug delivery in cancer, Origina...</td>\n",
              "      <td>https://www.ncbi.nlm.nih.gov/pmc/articles/1036...</td>\n",
              "      <td>https://www.ncbi.nlm.nih.gov/pmc/articles/1036...</td>\n",
              "      <td>\\nThe theranostic nanoparticle (TNP) synthesis...</td>\n",
              "      <td>X-ray</td>\n",
              "      <td>10.1177_15330338231189593-fig1.jpg</td>\n",
              "      <td>https://eutils.ncbi.nlm.nih.gov/entrez/eutils/...</td>\n",
              "    </tr>\n",
              "    <tr>\n",
              "      <th>1</th>\n",
              "      <td>10363893</td>\n",
              "      <td>37469184</td>\n",
              "      <td>10.1177/15330338231189593</td>\n",
              "      <td>X-ray and MR Contrast Bearing Nanoparticles En...</td>\n",
              "      <td>Introduction\\nRadiation therapy for head and n...</td>\n",
              "      <td>[Image-guided drug delivery in cancer, Origina...</td>\n",
              "      <td>https://www.ncbi.nlm.nih.gov/pmc/articles/1036...</td>\n",
              "      <td>https://www.ncbi.nlm.nih.gov/pmc/articles/1036...</td>\n",
              "      <td>\\nThe theranostic nanoparticle (TNP) distribut...</td>\n",
              "      <td>X-ray</td>\n",
              "      <td>10.1177_15330338231189593-fig2.jpg</td>\n",
              "      <td>https://eutils.ncbi.nlm.nih.gov/entrez/eutils/...</td>\n",
              "    </tr>\n",
              "    <tr>\n",
              "      <th>2</th>\n",
              "      <td>10363893</td>\n",
              "      <td>37469184</td>\n",
              "      <td>10.1177/15330338231189593</td>\n",
              "      <td>X-ray and MR Contrast Bearing Nanoparticles En...</td>\n",
              "      <td>Introduction\\nRadiation therapy for head and n...</td>\n",
              "      <td>[Image-guided drug delivery in cancer, Origina...</td>\n",
              "      <td>https://www.ncbi.nlm.nih.gov/pmc/articles/1036...</td>\n",
              "      <td>https://www.ncbi.nlm.nih.gov/pmc/articles/1036...</td>\n",
              "      <td>\\nAnnexin V apoptosis assay. The Annexin V ass...</td>\n",
              "      <td>X-ray</td>\n",
              "      <td>10.1177_15330338231189593-fig3.jpg</td>\n",
              "      <td>https://eutils.ncbi.nlm.nih.gov/entrez/eutils/...</td>\n",
              "    </tr>\n",
              "    <tr>\n",
              "      <th>3</th>\n",
              "      <td>10363893</td>\n",
              "      <td>37469184</td>\n",
              "      <td>10.1177/15330338231189593</td>\n",
              "      <td>X-ray and MR Contrast Bearing Nanoparticles En...</td>\n",
              "      <td>Introduction\\nRadiation therapy for head and n...</td>\n",
              "      <td>[Image-guided drug delivery in cancer, Origina...</td>\n",
              "      <td>https://www.ncbi.nlm.nih.gov/pmc/articles/1036...</td>\n",
              "      <td>https://www.ncbi.nlm.nih.gov/pmc/articles/1036...</td>\n",
              "      <td>\\nEffect of theranostic nanoparticles (TNPs) o...</td>\n",
              "      <td>X-ray</td>\n",
              "      <td>10.1177_15330338231189593-fig4.jpg</td>\n",
              "      <td>https://eutils.ncbi.nlm.nih.gov/entrez/eutils/...</td>\n",
              "    </tr>\n",
              "    <tr>\n",
              "      <th>4</th>\n",
              "      <td>10363893</td>\n",
              "      <td>37469184</td>\n",
              "      <td>10.1177/15330338231189593</td>\n",
              "      <td>X-ray and MR Contrast Bearing Nanoparticles En...</td>\n",
              "      <td>Introduction\\nRadiation therapy for head and n...</td>\n",
              "      <td>[Image-guided drug delivery in cancer, Origina...</td>\n",
              "      <td>https://www.ncbi.nlm.nih.gov/pmc/articles/1036...</td>\n",
              "      <td>https://www.ncbi.nlm.nih.gov/pmc/articles/1036...</td>\n",
              "      <td>\\nTumor localization and image-guided radiatio...</td>\n",
              "      <td>X-ray</td>\n",
              "      <td>10.1177_15330338231189593-fig5.jpg</td>\n",
              "      <td>https://eutils.ncbi.nlm.nih.gov/entrez/eutils/...</td>\n",
              "    </tr>\n",
              "  </tbody>\n",
              "</table>\n",
              "</div>"
            ],
            "text/plain": [
              "      PMCID      PMID                        DOI  \\\n",
              "0  10363893  37469184  10.1177/15330338231189593   \n",
              "1  10363893  37469184  10.1177/15330338231189593   \n",
              "2  10363893  37469184  10.1177/15330338231189593   \n",
              "3  10363893  37469184  10.1177/15330338231189593   \n",
              "4  10363893  37469184  10.1177/15330338231189593   \n",
              "\n",
              "                                               Title  \\\n",
              "0  X-ray and MR Contrast Bearing Nanoparticles En...   \n",
              "1  X-ray and MR Contrast Bearing Nanoparticles En...   \n",
              "2  X-ray and MR Contrast Bearing Nanoparticles En...   \n",
              "3  X-ray and MR Contrast Bearing Nanoparticles En...   \n",
              "4  X-ray and MR Contrast Bearing Nanoparticles En...   \n",
              "\n",
              "                                            Abstract  \\\n",
              "0  Introduction\\nRadiation therapy for head and n...   \n",
              "1  Introduction\\nRadiation therapy for head and n...   \n",
              "2  Introduction\\nRadiation therapy for head and n...   \n",
              "3  Introduction\\nRadiation therapy for head and n...   \n",
              "4  Introduction\\nRadiation therapy for head and n...   \n",
              "\n",
              "                                       Subject Terms  \\\n",
              "0  [Image-guided drug delivery in cancer, Origina...   \n",
              "1  [Image-guided drug delivery in cancer, Origina...   \n",
              "2  [Image-guided drug delivery in cancer, Origina...   \n",
              "3  [Image-guided drug delivery in cancer, Origina...   \n",
              "4  [Image-guided drug delivery in cancer, Origina...   \n",
              "\n",
              "                                         Article URL  \\\n",
              "0  https://www.ncbi.nlm.nih.gov/pmc/articles/1036...   \n",
              "1  https://www.ncbi.nlm.nih.gov/pmc/articles/1036...   \n",
              "2  https://www.ncbi.nlm.nih.gov/pmc/articles/1036...   \n",
              "3  https://www.ncbi.nlm.nih.gov/pmc/articles/1036...   \n",
              "4  https://www.ncbi.nlm.nih.gov/pmc/articles/1036...   \n",
              "\n",
              "                                           Image URL  \\\n",
              "0  https://www.ncbi.nlm.nih.gov/pmc/articles/1036...   \n",
              "1  https://www.ncbi.nlm.nih.gov/pmc/articles/1036...   \n",
              "2  https://www.ncbi.nlm.nih.gov/pmc/articles/1036...   \n",
              "3  https://www.ncbi.nlm.nih.gov/pmc/articles/1036...   \n",
              "4  https://www.ncbi.nlm.nih.gov/pmc/articles/1036...   \n",
              "\n",
              "                                             Caption Category  \\\n",
              "0  \\nThe theranostic nanoparticle (TNP) synthesis...    X-ray   \n",
              "1  \\nThe theranostic nanoparticle (TNP) distribut...    X-ray   \n",
              "2  \\nAnnexin V apoptosis assay. The Annexin V ass...    X-ray   \n",
              "3  \\nEffect of theranostic nanoparticles (TNPs) o...    X-ray   \n",
              "4  \\nTumor localization and image-guided radiatio...    X-ray   \n",
              "\n",
              "                           Image_Name  \\\n",
              "0  10.1177_15330338231189593-fig1.jpg   \n",
              "1  10.1177_15330338231189593-fig2.jpg   \n",
              "2  10.1177_15330338231189593-fig3.jpg   \n",
              "3  10.1177_15330338231189593-fig4.jpg   \n",
              "4  10.1177_15330338231189593-fig5.jpg   \n",
              "\n",
              "                                             xml_url  \n",
              "0  https://eutils.ncbi.nlm.nih.gov/entrez/eutils/...  \n",
              "1  https://eutils.ncbi.nlm.nih.gov/entrez/eutils/...  \n",
              "2  https://eutils.ncbi.nlm.nih.gov/entrez/eutils/...  \n",
              "3  https://eutils.ncbi.nlm.nih.gov/entrez/eutils/...  \n",
              "4  https://eutils.ncbi.nlm.nih.gov/entrez/eutils/...  "
            ]
          },
          "execution_count": 13,
          "metadata": {},
          "output_type": "execute_result"
        }
      ],
      "source": [
        "df_combined.head()"
      ]
    },
    {
      "cell_type": "code",
      "execution_count": 14,
      "metadata": {
        "colab": {
          "base_uri": "https://localhost:8080/"
        },
        "id": "FzHr_MTMVer-",
        "outputId": "86bb3bb3-bf7f-45d4-f54f-0312a18c8a3e"
      },
      "outputs": [],
      "source": [
        "df_combined.to_csv(\"description.csv\", index=False)"
      ]
    },
    {
      "cell_type": "code",
      "execution_count": 15,
      "metadata": {
        "colab": {
          "base_uri": "https://localhost:8080/"
        },
        "id": "ibQBnIVJqSXm",
        "outputId": "8dbe2815-48ae-45d1-c5dc-24db1b6fae4f"
      },
      "outputs": [],
      "source": [
        "client.close()\n",
        "cluster.close()"
      ]
    }
  ],
  "metadata": {
    "colab": {
      "provenance": []
    },
    "kernelspec": {
      "display_name": "Python 3",
      "name": "python3"
    },
    "language_info": {
      "codemirror_mode": {
        "name": "ipython",
        "version": 3
      },
      "file_extension": ".py",
      "mimetype": "text/x-python",
      "name": "python",
      "nbconvert_exporter": "python",
      "pygments_lexer": "ipython3",
      "version": "3.10.9"
    }
  },
  "nbformat": 4,
  "nbformat_minor": 0
}
